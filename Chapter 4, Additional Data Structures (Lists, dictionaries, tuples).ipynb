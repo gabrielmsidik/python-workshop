{
 "cells": [
  {
   "cell_type": "markdown",
   "metadata": {},
   "source": [
    "# Chapter 3: Collections\n",
    "\n",
    "We've seen how we can use a variable to capture the 1 value, but for us to have more scaleable operations, (and particularly with data science/analytics, we want to handle and manage larger sets of informations.\n",
    "\n",
    "In this chapter, we will go through some of the fundamental types of collections, data types which can store more values in them.\n",
    "\n",
    "## List\n",
    "\n",
    "A list is an `ordered` and `changeable` collection"
   ]
  },
  {
   "cell_type": "code",
   "execution_count": 1,
   "metadata": {},
   "outputs": [
    {
     "name": "stdout",
     "output_type": "stream",
     "text": [
      "['banana', 'orange', 'apple', 'banana', 'pineapple']\n"
     ]
    }
   ],
   "source": [
    "fruitList = ['banana', 'orange', 'apple', 'banana', 'pineapple']\n",
    "print(fruitList)"
   ]
  },
  {
   "cell_type": "markdown",
   "metadata": {},
   "source": [
    "Notice that the print maintains the same order as the order the list was specified.\n",
    "\n",
    "We can get the length of a list using the `len(<list>)` function, and\n",
    "\n",
    "change the values stored in a list this way..."
   ]
  },
  {
   "cell_type": "code",
   "execution_count": 5,
   "metadata": {},
   "outputs": [
    {
     "name": "stdout",
     "output_type": "stream",
     "text": [
      "Number of fruits: 5\n",
      "['banana', 'blueberry', 'apple', 'banana', 'pineapple']\n"
     ]
    }
   ],
   "source": [
    "print('Number of fruits: ' + str(len(fruitList)))\n",
    "fruitList[1] = 'blueberry'\n",
    "print(fruitList)"
   ]
  },
  {
   "cell_type": "markdown",
   "metadata": {},
   "source": [
    "Notice now that the list has been modified...\n",
    "\n",
    "With the... wait, the 2nd string being replaced with `'blueberry'`???\n",
    "\n",
    "### Indexes in Python starts counting at 0.\n",
    "\n",
    "i.e.\n",
    "\n",
    "`fruitList    ['banana', 'blueberry', 'apple', 'banana', 'pineapple']\n",
    "    Index        0           1          2         3          4`\n",
    "    \n",
    "    \n",
    "Recall our for-loop from the previous chapter? We can use for-loops and list together this way:"
   ]
  },
  {
   "cell_type": "code",
   "execution_count": 7,
   "metadata": {},
   "outputs": [
    {
     "name": "stdout",
     "output_type": "stream",
     "text": [
      "#0: banana\n",
      "#1: blueberry\n",
      "#2: apple\n",
      "#3: banana\n",
      "#4: pineapple\n"
     ]
    }
   ],
   "source": [
    "for index in range(0, len(fruitList)):\n",
    "    print(\"#\" + str(index) + \": \" + fruitList[index])"
   ]
  },
  {
   "cell_type": "markdown",
   "metadata": {},
   "source": [
    "### Notice that due to the fact that range excludes, the last value, there is no problems with the above code running.\n",
    "\n",
    "Let's test it now to see what happens when we try to exceed the bound of the length of fruitList!"
   ]
  },
  {
   "cell_type": "code",
   "execution_count": 8,
   "metadata": {},
   "outputs": [
    {
     "name": "stdout",
     "output_type": "stream",
     "text": [
      "#0: banana\n",
      "#1: blueberry\n",
      "#2: apple\n",
      "#3: banana\n",
      "#4: pineapple\n"
     ]
    },
    {
     "ename": "IndexError",
     "evalue": "list index out of range",
     "output_type": "error",
     "traceback": [
      "\u001b[0;31m---------------------------------------------------------------------------\u001b[0m",
      "\u001b[0;31mIndexError\u001b[0m                                Traceback (most recent call last)",
      "\u001b[0;32m<ipython-input-8-2c4ce6f48bc7>\u001b[0m in \u001b[0;36m<module>\u001b[0;34m()\u001b[0m\n\u001b[1;32m      1\u001b[0m \u001b[0;32mfor\u001b[0m \u001b[0mindex\u001b[0m \u001b[0;32min\u001b[0m \u001b[0mrange\u001b[0m\u001b[0;34m(\u001b[0m\u001b[0;36m0\u001b[0m\u001b[0;34m,\u001b[0m \u001b[0mlen\u001b[0m\u001b[0;34m(\u001b[0m\u001b[0mfruitList\u001b[0m\u001b[0;34m)\u001b[0m \u001b[0;34m+\u001b[0m \u001b[0;36m1\u001b[0m\u001b[0;34m)\u001b[0m\u001b[0;34m:\u001b[0m\u001b[0;34m\u001b[0m\u001b[0m\n\u001b[0;32m----> 2\u001b[0;31m     \u001b[0mprint\u001b[0m\u001b[0;34m(\u001b[0m\u001b[0;34m\"#\"\u001b[0m \u001b[0;34m+\u001b[0m \u001b[0mstr\u001b[0m\u001b[0;34m(\u001b[0m\u001b[0mindex\u001b[0m\u001b[0;34m)\u001b[0m \u001b[0;34m+\u001b[0m \u001b[0;34m\": \"\u001b[0m \u001b[0;34m+\u001b[0m \u001b[0mfruitList\u001b[0m\u001b[0;34m[\u001b[0m\u001b[0mindex\u001b[0m\u001b[0;34m]\u001b[0m\u001b[0;34m)\u001b[0m\u001b[0;34m\u001b[0m\u001b[0m\n\u001b[0m",
      "\u001b[0;31mIndexError\u001b[0m: list index out of range"
     ]
    }
   ],
   "source": [
    "for index in range(0, len(fruitList) + 1):\n",
    "    print(\"#\" + str(index) + \": \" + fruitList[index])"
   ]
  },
  {
   "cell_type": "markdown",
   "metadata": {},
   "source": [
    "We receive an '`list index out of range`' `IndexError`.\n",
    "\n",
    "Python is pretty smart, and it can automatically assume that ranges start from 0.\n",
    "\n",
    "Such that we can do this:"
   ]
  },
  {
   "cell_type": "code",
   "execution_count": 9,
   "metadata": {},
   "outputs": [
    {
     "name": "stdout",
     "output_type": "stream",
     "text": [
      "#0: banana\n",
      "#1: blueberry\n",
      "#2: apple\n",
      "#3: banana\n",
      "#4: pineapple\n"
     ]
    }
   ],
   "source": [
    "for index in range(len(fruitList)):\n",
    "    print(\"#\" + str(index) + \": \" + fruitList[index])"
   ]
  },
  {
   "cell_type": "markdown",
   "metadata": {},
   "source": [
    "### If a `range` only has 1 input, Python will assume that the range will begin at 0 and end before the input number.\n",
    "\n",
    "So far, in the above 2 examples, the logical process that we are thinking is as such:\n",
    "\n",
    "`For each index in the range between 0 and the length of the fruitList,`\n",
    "\n",
    "`let us print the index, as well as the fruit in the corresponding position`\n",
    "\n",
    "If we do not require the index, and simply want to print out the fruits, we can also use a for-loop on a list in this manner: "
   ]
  },
  {
   "cell_type": "code",
   "execution_count": 10,
   "metadata": {},
   "outputs": [
    {
     "name": "stdout",
     "output_type": "stream",
     "text": [
      "There is a banana\n",
      "There is a blueberry\n",
      "There is a apple\n",
      "There is a banana\n",
      "There is a pineapple\n"
     ]
    }
   ],
   "source": [
    "for fruit in fruitList:\n",
    "    print(\"There is a \" + fruit)"
   ]
  },
  {
   "cell_type": "markdown",
   "metadata": {},
   "source": []
  }
 ],
 "metadata": {
  "kernelspec": {
   "display_name": "Python 3",
   "language": "python",
   "name": "python3"
  },
  "language_info": {
   "codemirror_mode": {
    "name": "ipython",
    "version": 3
   },
   "file_extension": ".py",
   "mimetype": "text/x-python",
   "name": "python",
   "nbconvert_exporter": "python",
   "pygments_lexer": "ipython3",
   "version": "3.6.5"
  }
 },
 "nbformat": 4,
 "nbformat_minor": 2
}
