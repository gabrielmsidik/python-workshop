{
 "cells": [
  {
   "cell_type": "markdown",
   "metadata": {},
   "source": [
    "# Chapter 1: Introduction to Python"
   ]
  },
  {
   "cell_type": "markdown",
   "metadata": {},
   "source": [
    "Everyone is talking about how computers are getting so much more intelligent, with all the hype about Artificial Intelligence and Deep Learning.\n",
    "\n",
    "Let's break all the hype down and see what computers can do `fundamentally`:\n",
    "\n",
    "1. `Remember` information\n",
    "2. `Perform` calculations"
   ]
  },
  {
   "cell_type": "markdown",
   "metadata": {},
   "source": [
    "Python (and any other programming language) can thus be considered as a means for a human (you and I) to get a computer to remember things for us, and perform a series of calculations.\n",
    "\n",
    "Moving into this tutorial, we will introduce Python from the point of view of these 2 goals:\n",
    "\n",
    "1. How do we instruct a computer to `remember values` in Python? (And what `types` of information can it remember)\n",
    "2. How do we instruct a computer via Python to `perform calculations`\n",
    "\n",
    "Note that this tutorial is written as an interactive tutorial using jupyter. So do use jupyter and run the various code sections in order to explore and learn with the tutorial!"
   ]
  },
  {
   "cell_type": "markdown",
   "metadata": {},
   "source": [
    "## Remembering Values\n",
    "### Basic Data Types in Python"
   ]
  },
  {
   "cell_type": "markdown",
   "metadata": {},
   "source": [
    "|Data Type | Description| Examples|\n",
    "|----|---|---|\n",
    "|`int` |integers|1, 2, 3, -123123|\n",
    "|`float`| floating point numbers (i.e. all real numbers) | 1.002, 2.3333, -0.75|\n",
    "|`bool` | Boolean values (\"Truth\" values) |`True`, `False`|\n",
    "|`str`| Strings (i.e. a string of characters... Words, phrases, sentences)| `'Hi my name is jo'`|\n",
    "|`NoneType`| stores the `None` values| `None`|"
   ]
  },
  {
   "cell_type": "markdown",
   "metadata": {},
   "source": [
    "So how do we define variables and have them store information? \n",
    "\n",
    "We use expressions to assign values to the respective variables in which we seek to store the value in!\n",
    "\n",
    "Example:"
   ]
  },
  {
   "cell_type": "code",
   "execution_count": 9,
   "metadata": {},
   "outputs": [],
   "source": [
    "noOfDaysInTheYear = 365\n",
    "approximationOfPi = 3.14159\n",
    "isComplete = False\n",
    "morningGreeting = 'Morning my man'"
   ]
  },
  {
   "cell_type": "markdown",
   "metadata": {},
   "source": [
    "## Errors"
   ]
  },
  {
   "cell_type": "markdown",
   "metadata": {},
   "source": [
    "Notice as well that a string is defined within a pair of `'`, we can also use a pair of `\"` as well, but just make sure we stay consistent and close the string the way we opened it."
   ]
  },
  {
   "cell_type": "code",
   "execution_count": 10,
   "metadata": {},
   "outputs": [
    {
     "ename": "SyntaxError",
     "evalue": "EOL while scanning string literal (<ipython-input-10-88fadcb75e98>, line 1)",
     "output_type": "error",
     "traceback": [
      "\u001b[0;36m  File \u001b[0;32m\"<ipython-input-10-88fadcb75e98>\"\u001b[0;36m, line \u001b[0;32m1\u001b[0m\n\u001b[0;31m    badPythonString = 'I somehow changed the aprostrophe\"\u001b[0m\n\u001b[0m                                                         ^\u001b[0m\n\u001b[0;31mSyntaxError\u001b[0m\u001b[0;31m:\u001b[0m EOL while scanning string literal\n"
     ]
    }
   ],
   "source": [
    "badPythonString = 'I somehow changed the aprostrophe\""
   ]
  },
  {
   "cell_type": "markdown",
   "metadata": {},
   "source": [
    "EOL here refers to End of Line \n",
    "\n",
    "Python is trying to telling you that something is missing in the statement\n",
    "\n",
    "There are other types of Errors also which we will go into later on.."
   ]
  },
  {
   "cell_type": "markdown",
   "metadata": {},
   "source": [
    "If you use Jupyter Notebook to write your Python code, the moment you key a `'` in your code, it should auto-generate the ending `'` for you.\n",
    "\n",
    "So, it shouldn't be too hard to keep to this.\n",
    "\n",
    "*Make sure that the code defining the variables above are executed first before attempting to run the code below!*"
   ]
  },
  {
   "cell_type": "markdown",
   "metadata": {},
   "source": [
    "## Types"
   ]
  },
  {
   "cell_type": "markdown",
   "metadata": {},
   "source": [
    "What if you are not sure what is the data type of a particular value stored inside a variable? You can use the `type` command to find out."
   ]
  },
  {
   "cell_type": "code",
   "execution_count": 11,
   "metadata": {},
   "outputs": [
    {
     "data": {
      "text/plain": [
       "int"
      ]
     },
     "execution_count": 11,
     "metadata": {},
     "output_type": "execute_result"
    }
   ],
   "source": [
    "type(noOfDaysInTheYear)"
   ]
  },
  {
   "cell_type": "code",
   "execution_count": 12,
   "metadata": {},
   "outputs": [
    {
     "data": {
      "text/plain": [
       "float"
      ]
     },
     "execution_count": 12,
     "metadata": {},
     "output_type": "execute_result"
    }
   ],
   "source": [
    "type(approximationOfPi)"
   ]
  },
  {
   "cell_type": "code",
   "execution_count": 13,
   "metadata": {},
   "outputs": [
    {
     "data": {
      "text/plain": [
       "bool"
      ]
     },
     "execution_count": 13,
     "metadata": {},
     "output_type": "execute_result"
    }
   ],
   "source": [
    "type(isComplete)"
   ]
  },
  {
   "cell_type": "code",
   "execution_count": 14,
   "metadata": {},
   "outputs": [
    {
     "data": {
      "text/plain": [
       "str"
      ]
     },
     "execution_count": 14,
     "metadata": {},
     "output_type": "execute_result"
    }
   ],
   "source": [
    "type(morningGreeting)"
   ]
  },
  {
   "cell_type": "markdown",
   "metadata": {},
   "source": [
    "#### Pro Tip: Best Practices\n",
    "Always name your variables in a way which is recognizable and meaningful, avoid naming your variables 'x' or 'y' like in an algebra class. This will ensure that your code is readable, both for the sake of others, as well as for yourself!"
   ]
  },
  {
   "cell_type": "markdown",
   "metadata": {},
   "source": [
    "### Reassigning variables\n",
    "Note that variables can be reassigned, even to variables of different types.\n",
    "\n",
    "Consider this:"
   ]
  },
  {
   "cell_type": "code",
   "execution_count": 18,
   "metadata": {},
   "outputs": [],
   "source": [
    "noOfDaysInTheYear = 365\n",
    "approximationOfPi = 3.14159\n",
    "isComplete = False\n",
    "isComplete = approximationOfPi"
   ]
  },
  {
   "cell_type": "markdown",
   "metadata": {},
   "source": [
    "What do you think the data type of `isComplete` will be now?"
   ]
  },
  {
   "cell_type": "code",
   "execution_count": 19,
   "metadata": {},
   "outputs": [
    {
     "data": {
      "text/plain": [
       "float"
      ]
     },
     "execution_count": 19,
     "metadata": {},
     "output_type": "execute_result"
    }
   ],
   "source": [
    "type(isComplete)"
   ]
  },
  {
   "cell_type": "markdown",
   "metadata": {},
   "source": [
    "#### The above code definitely does not seem to make any logical sense, and indeed it doesn't. But imagine if we have named the variables in a non-meaningful way, like below:"
   ]
  },
  {
   "cell_type": "code",
   "execution_count": 20,
   "metadata": {},
   "outputs": [],
   "source": [
    "x = 365\n",
    "y = 3.14159\n",
    "z = False\n",
    "z = y\n",
    "print(z)"
   ]
  },
  {
   "cell_type": "markdown",
   "metadata": {},
   "source": [
    "Now that does not seem so ludicrous right? But how often would you purposely reassign a variable originally storing a `Boolean` value to store a `float` in a program? Most probably not. \n",
    "\n",
    "By using non-meaningful variable names, we have simply allowed ourselves to confuse the different variable types (and potentially introduce bugs into our scripts/programs).\n",
    "#### So use meaningful variable names!\n",
    "\n",
    "As shown above as well, reassigning values is similar in syntax as creating them in the first place, we can also do things like..."
   ]
  },
  {
   "cell_type": "code",
   "execution_count": 21,
   "metadata": {},
   "outputs": [
    {
     "name": "stdout",
     "output_type": "stream",
     "text": [
      "0\n",
      "1\n"
     ]
    }
   ],
   "source": [
    "counter = 0\n",
    "print(counter)\n",
    "counter = counter + 1\n",
    "print(counter)"
   ]
  },
  {
   "cell_type": "markdown",
   "metadata": {},
   "source": [
    "The 3rd line of the above code segment is reassigning the value of `counter` by changing the original value of it (to be precise, adding 1 to it).\n",
    "\n",
    "Notice as well that a new piece of syntax has been used, the `print` function.\n",
    "\n",
    "*and I snuck in mathematical operations as well, to be explained clearly below*\n",
    "\n",
    "It's really easy to use. And this provides you an easy way to see the current values stored in your variables.\n",
    "\n",
    "Notice as well that 2 separate lines are printed. Once for the 1st `print` function, and the 2nd for the next one. It's a cool feature that Python provides, but how else could we make the printed output clearer?\n",
    "\n",
    "How about we:\n",
    "#### print a value along with a small description of the value!"
   ]
  },
  {
   "cell_type": "code",
   "execution_count": null,
   "metadata": {},
   "outputs": [],
   "source": [
    "counter = 0\n",
    "print('counter value: ' counter)"
   ]
  },
  {
   "cell_type": "markdown",
   "metadata": {},
   "source": [
    "##### Well, that went badly, but remember not to freak out when you see such error messages (like what's above).\n",
    "#### Error messages are your friends!!!\n",
    "The above error message states that the `SyntaxError` is `invalid syntax`\n",
    "and not only that, it also provides a small little `^` to tell you where the mistake is!\n",
    "\n",
    "The correct way of printing strings and values together is:"
   ]
  },
  {
   "cell_type": "code",
   "execution_count": null,
   "metadata": {},
   "outputs": [],
   "source": [
    "print('counter value: ' + str(counter)"
   ]
  },
  {
   "cell_type": "markdown",
   "metadata": {},
   "source": [
    "Whoops! That's a genuine error as I typed this. But since we have that, let's take a look at the new `SyntaxError` which is `unexpected EOF while parsing`\n",
    "\n",
    "`EOF` stands for 'End of File' which implies to you that there is something that seems to be left 'dangling' and Python complains that the file/program should not have ended at that point! Notice that a similar `SyntaxError` also appeared when I began a string with `'` and closed it with a `\"`\n",
    "\n",
    "In this case, the problem is that a closing `)` is missing. Let's try again"
   ]
  },
  {
   "cell_type": "code",
   "execution_count": null,
   "metadata": {},
   "outputs": [],
   "source": [
    "print('counter value: ' + str(counter))"
   ]
  },
  {
   "cell_type": "markdown",
   "metadata": {},
   "source": [
    "Beautiful! Now, let's take a closer look of the above method...\n",
    "\n",
    "Notice that: \n",
    "1. `counter value` is surrounded by `'`. This tells Python that `counter value` is a string\n",
    "2. we use a `+` to **concatenate** the written string at the start with...\n",
    "3. a `str()` representation of `counter`!\n",
    "\n",
    "Remember that `str` refers to the datatype which stores strings.\n",
    "\n",
    "As such, the `str(<<variableName>>)` syntax is used to convert the value stored in the variable `counter` (which is 1) into a string, `'1'`, which can then be concatenated to `'counter value: '` and printed onto the console!"
   ]
  },
  {
   "cell_type": "markdown",
   "metadata": {},
   "source": [
    "## Performing Calculation\n",
    "### Mathematical operations"
   ]
  },
  {
   "cell_type": "markdown",
   "metadata": {},
   "source": [
    "|Mathematical Operator | Description|\n",
    "|----|---|---| \n",
    "|`+` |sum, addition|\n",
    "|`-` |minus, subtracting|\n",
    "|`*` |multiplication|\n",
    "|`/`|division|\n",
    "|`**`| exponent, *'raising to the power'*|\n",
    "|`%`|modulo, *'remainder'*|"
   ]
  },
  {
   "cell_type": "code",
   "execution_count": null,
   "metadata": {},
   "outputs": [],
   "source": [
    "print(5 + 2)"
   ]
  },
  {
   "cell_type": "code",
   "execution_count": null,
   "metadata": {},
   "outputs": [],
   "source": [
    "print(7 - 3.3)"
   ]
  },
  {
   "cell_type": "code",
   "execution_count": null,
   "metadata": {},
   "outputs": [],
   "source": [
    "print(3.14159 * 5 * 2)"
   ]
  },
  {
   "cell_type": "code",
   "execution_count": null,
   "metadata": {},
   "outputs": [],
   "source": [
    "print(3.14159 * 5 ** 2)"
   ]
  },
  {
   "cell_type": "code",
   "execution_count": null,
   "metadata": {},
   "outputs": [],
   "source": [
    "print(22 / 7)"
   ]
  },
  {
   "cell_type": "code",
   "execution_count": null,
   "metadata": {},
   "outputs": [],
   "source": [
    "print(22 % 7)"
   ]
  },
  {
   "cell_type": "code",
   "execution_count": null,
   "metadata": {},
   "outputs": [],
   "source": [
    "print(22.3 % 7)"
   ]
  },
  {
   "cell_type": "markdown",
   "metadata": {},
   "source": [
    "Notice that in `print(3.14159 * 5 ** 2)` both multiplication `*` and exponent `**` are used! Python mathematical operations are consistent with BODMAS! If you need a quick refresher on BODMAS, check out this link here:\n",
    "https://www.mathsisfun.com/operation-order-bodmas.html"
   ]
  },
  {
   "cell_type": "markdown",
   "metadata": {},
   "source": [
    "# /INSERT EXERCISES HERE!/"
   ]
  },
  {
   "cell_type": "markdown",
   "metadata": {},
   "source": [
    "## Chapter Summary\n",
    "1. Assign variables simply with an `=` sign\n",
    "\n",
    "2. Here are the data types introduced in this tutorial\n",
    "\n",
    "|Data Type | Description| Examples|\n",
    "|----|---|---|\n",
    "|`int` |integers|1, 2, 3, -123123|\n",
    "|`float`| floating point numbers (i.e. all real numbers) | 1.002, 2.3333, -0.75|\n",
    "|`bool` | Boolean values (\"Truth\" values) |`True`, `False`|\n",
    "|`str`| Strings (i.e. a string of characters... Words, phrases, sentences| `'Hi my name is jo'`|\n",
    "|`NoneType`| stores the `None` values| `None`|\n",
    "\n",
    "3. `print()` can be used to print values onto the console\n",
    "4. Mathematical Operations follow BODMAS and are written in Python as: \n",
    "\n",
    "|Mathematical Operator | Description|\n",
    "|----|---|---| \n",
    "|`+` |sum, addition|\n",
    "|`-` |minus, subtracting|\n",
    "|`*` |multiplication|\n",
    "|`/`|division|\n",
    "|`**`| exponent, *'raising to the power'*|\n",
    "|`%`|modulo, *'remainder'*|"
   ]
  },
  {
   "cell_type": "markdown",
   "metadata": {},
   "source": [
    "### Top Tips:\n",
    "1. Name variables in a sensible, logical way\n",
    "2. Error messages are your friends! ^^"
   ]
  },
  {
   "cell_type": "markdown",
   "metadata": {},
   "source": [
    "# Chapter 2: Making Python *not just a calculator* a.k.a Conditionals and Branching\n",
    "\n",
    "## Booleans"
   ]
  },
  {
   "cell_type": "markdown",
   "metadata": {},
   "source": [
    "So far, all we've learnt is to use Python as a calculator. What else can we do with Python? Well, let's move up into a new layer to make things more interesting, *deciding upon different courses of actions based on particular conditions*.\n",
    "\n",
    "How can we store such conditions within Python, well, `Bool` datatypes are excellent for doing that. We can use `Bool` variables to describe *whether a particular condition is True or False*, and subsequently choose different paths!\n",
    "\n",
    "We've already seen that we can define `Bool` variables by simple assignment. Here's how we can create `Bool` values through comparisons!"
   ]
  },
  {
   "cell_type": "markdown",
   "metadata": {},
   "source": [
    "|Comparison Operation | Description|\n",
    "|----|---|\n",
    "|`>` |bigger than|\n",
    "|`>=` |bigger or equals|\n",
    "|`<` |smaller than|\n",
    "|`<=`|smaller or equals|\n",
    "|`==`|equals|\n",
    "|`!=`|not equal|"
   ]
  },
  {
   "cell_type": "code",
   "execution_count": 1,
   "metadata": {},
   "outputs": [
    {
     "name": "stdout",
     "output_type": "stream",
     "text": [
      "True\n"
     ]
    }
   ],
   "source": [
    "print(1 < 10)"
   ]
  },
  {
   "cell_type": "code",
   "execution_count": 2,
   "metadata": {},
   "outputs": [
    {
     "name": "stdout",
     "output_type": "stream",
     "text": [
      "False\n"
     ]
    }
   ],
   "source": [
    "isTenEqualToEleven = 10 == 11\n",
    "print(isTenEqualToEleven)"
   ]
  },
  {
   "cell_type": "markdown",
   "metadata": {},
   "source": [
    "I used to (and sometimes still do) confuse between `>` and `<`. The simple fallback I use is this thought process **'Is the arrow pointing to the smaller value?'**\n",
    "\n",
    "Notice that you can directly assign the Bool value of such conditionals to a variable name directly.\n",
    "\n",
    "Now that we have defined our Bool variables and learnt how to store them, what can we do with them?\n",
    "\n",
    "\n",
    "## Logic Operators\n",
    "\n",
    "We can do *logical operations* on them to combine different Bool values together with `and` or `or` keywords, and the `not` keyword to negate a Bool value:\n",
    "\n",
    "|Logic Operator | Description|\n",
    "|----|---|\n",
    "|`not a` |`True` if `a` is `False`|\n",
    "|`a and b` |`True` if `a` and `b` are True|\n",
    "|`a or b` |`True` if *either* `a` and `b` are True|\n",
    "\n",
    "## Conditionals\n",
    "\n",
    "Now armed with means to create and operate on Bool variables, how do we use them to *control and alter* the behaviour of our code?\n",
    "\n",
    "Check out this example below:\n",
    "\n",
    "My dad used to ask me random math questions/riddles like 'Will you ever be half my age?'. As a kid, the way I tried to solve this problem was to manually try every combination of possible ages, in other words, to represent what's going on in my mind, I'll be thinking like this in my mind:"
   ]
  },
  {
   "cell_type": "code",
   "execution_count": null,
   "metadata": {},
   "outputs": [],
   "source": [
    "myAge = 13\n",
    "dadAge = 50\n",
    "\n",
    "if (myAge == dadAge/2):\n",
    "    print('I\\'m already half your age!')\n",
    "elif (myAge < dadAge/2):\n",
    "    print('I\\'m less than half your age!')\n",
    "else:\n",
    "    print('I\\'m more than half your age!')\n",
    "    "
   ]
  },
  {
   "cell_type": "markdown",
   "metadata": {},
   "source": [
    "and then I'll increment the ages of both my dad and I, and figure out if it'll ever happen...\n",
    "\n",
    "Now, though, this example serves as a good way to introduce conditionals like `if`, `else`, and `elif`.\n",
    "\n",
    "A few key notes about the structure of these conditional statements.\n",
    "\n",
    "1. The `if` block is defined as the entire block consisting of the original line, as well as any indented line below it directly, that is, the `if` block consists of:\n",
    "\n",
    "`\n",
    "if (myAge == dadAge/2):\n",
    "    print('I\\'m already half your age!')\n",
    "`\n",
    "\n",
    "2. **Indentation is important**\n",
    "\n",
    "3. The conditional is placed within `()`, and is followed by a `:`.\n",
    "\n",
    "#### *Notice that the string to be printed has this `\\` which does not get printed. It's an escape character to allow us to type special characters which would otherwise be interpreted, like a closing `'` *\n",
    "\n",
    "You can probably tell that 12-year old me's logic doesn't seem to be very strong and doesn't really answer my dad's original question of *\"Will you ever be half my age?\"*\n",
    "\n",
    "Stay tuned to see what we can do about it..."
   ]
  },
  {
   "cell_type": "markdown",
   "metadata": {},
   "source": [
    "# /INSERT EXAMPLES HERE/"
   ]
  },
  {
   "cell_type": "markdown",
   "metadata": {},
   "source": [
    "### Examples of using not-and-or"
   ]
  },
  {
   "cell_type": "code",
   "execution_count": 5,
   "metadata": {},
   "outputs": [
    {
     "name": "stdout",
     "output_type": "stream",
     "text": [
      "is10BiggerThan5: True\n",
      "is10NotBiggerThan5: False\n"
     ]
    }
   ],
   "source": [
    "is10BiggerThan5 = 10 > 5\n",
    "is10NotBiggerThan5 = not is10BiggerThan5\n",
    "\n",
    "print('is10BiggerThan5: ' + str(is10BiggerThan5))\n",
    "print('is10NotBiggerThan5: ' + str(is10NotBiggerThan5))"
   ]
  },
  {
   "cell_type": "code",
   "execution_count": 8,
   "metadata": {},
   "outputs": [
    {
     "name": "stdout",
     "output_type": "stream",
     "text": [
      "amIASeniorCitizen: False\n",
      "amIAChild: False\n",
      "amIOfWorkingAge: True\n"
     ]
    }
   ],
   "source": [
    "myAge = 25\n",
    "amIASeniorCitizen = myAge > 65\n",
    "amIAChild = myAge < 18\n",
    "\n",
    "amIOfWorkingAge = not amIASeniorCitizen and not amIAChild\n",
    "\n",
    "\n",
    "print('amIASeniorCitizen: ' + str(amIASeniorCitizen))\n",
    "print('amIAChild: ' + str(amIAChild))\n",
    "print('amIOfWorkingAge: ' + str(amIOfWorkingAge))"
   ]
  },
  {
   "cell_type": "code",
   "execution_count": 10,
   "metadata": {},
   "outputs": [
    {
     "name": "stdout",
     "output_type": "stream",
     "text": [
      "Jeremy: \n",
      "Is Jeremy a potential Teabreak Buddy?: True\n"
     ]
    }
   ],
   "source": [
    "print('Jeremy: ')\n",
    "\n",
    "likesCoffee = True\n",
    "likesTea = False\n",
    "\n",
    "print(\"Is Jeremy a potential Teabreak Buddy?: \" + str(likesCoffee or likesTea))"
   ]
  },
  {
   "cell_type": "markdown",
   "metadata": {},
   "source": [
    "The last example is an illustration of a direct use of not-and-or in a print message. But I would highly advise storing the intermediate Boolean first as a variable before printing it out. \n",
    "\n",
    "Notice the various ways of using `not`, `and`, `or`, especially together.\n",
    "\n",
    "### Protip: use meaningful names for your boolean values such that the logical meaning behind it is clear when manipulating them!"
   ]
  },
  {
   "cell_type": "markdown",
   "metadata": {},
   "source": [
    "# /INSERT EXAMPLES HERE"
   ]
  }
 ],
 "metadata": {
  "kernelspec": {
   "display_name": "Python 3",
   "language": "python",
   "name": "python3"
  },
  "language_info": {
   "codemirror_mode": {
    "name": "ipython",
    "version": 3
   },
   "file_extension": ".py",
   "mimetype": "text/x-python",
   "name": "python",
   "nbconvert_exporter": "python",
   "pygments_lexer": "ipython3",
   "version": "3.6.5"
  }
 },
 "nbformat": 4,
 "nbformat_minor": 2
}
